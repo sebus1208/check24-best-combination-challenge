{
 "cells": [
  {
   "cell_type": "code",
   "execution_count": 1,
   "metadata": {},
   "outputs": [],
   "source": [
    "import pandas as pd\n",
    "import pulp\n",
    "import time\n",
    "\n",
    "# Einlesen aller Tabellen\n",
    "game = pd.read_csv('data/bc_game.csv')\n",
    "streaming_offer = pd.read_csv('data/bc_streaming_offer.csv')\n",
    "streaming_packages = pd.read_csv('data/bc_streaming_package.csv')"
   ]
  },
  {
   "cell_type": "code",
   "execution_count": 2,
   "metadata": {},
   "outputs": [],
   "source": [
    "# Funktion mit Rückgabe aller Spiele für ein Team\n",
    "def get_game_ids(team_list):\n",
    "    filtered_games = game[game['team_home'].isin(team_list) | game['team_away'].isin(team_list)]\n",
    "    return filtered_games['id'].tolist()"
   ]
  },
  {
   "cell_type": "code",
   "execution_count": 3,
   "metadata": {},
   "outputs": [],
   "source": [
    "# Extrahierung aller nötigen Daten für das LpProblem\n",
    "anbieter = streaming_packages[\"id\"].tolist()\n",
    "preis = dict(zip(streaming_packages[\"id\"], streaming_packages[\"monthly_price_yearly_subscription_in_cents\"]))\n",
    "abdeckung = streaming_offer[streaming_offer[\"live\"] == 1].groupby(\"streaming_package_id\")[\"game_id\"].apply(list).to_dict()"
   ]
  },
  {
   "cell_type": "code",
   "execution_count": 4,
   "metadata": {},
   "outputs": [],
   "source": [
    "def ILP_set_cover(game_ids, anbieter, abdeckung, preis):\n",
    "    \"\"\"\n",
    "    Greedy-Algorithmus für das Set Cover Problem.\n",
    "    \n",
    "    :param game_ids: Liste der Spiele, die abgedeckt werden müssen\n",
    "    :param anbieter: Liste der Anbieter\n",
    "    :param abdeckung: Dictionary mit Anbieter als Schlüssel und Liste der abgedeckten Spiele als Wert\n",
    "    :param preis: Dictionary mit Anbieter als Schlüssel und den Kosten als Wert\n",
    "    :return: Liste der ausgewählten Anbieter, Preis und ungedeckte Spiele\n",
    "    \"\"\"\n",
    "    covered_games = [g for g in game_ids if any(g in abdeckung[k] for k in abdeckung)]\n",
    "    uncovered_games = [g for g in game_ids if not any(g in abdeckung[k] for k in abdeckung)]\n",
    "\n",
    "    # Das Set-Cover Problem wird als Lineares Programmierungsproblem definiert\n",
    "    problem = pulp.LpProblem(\"MinimalCostPackages\", pulp.LpMinimize)\n",
    "\n",
    "    #Entscheidungsvariablen: Alle Anbieter ob diese gekauft werden oder nicht\n",
    "    x = pulp.LpVariable.dicts('Anbieter', anbieter, cat='Binary')\n",
    "\n",
    "    #Zielminimierung: Möglichst geringe kosten, 0/1 ob anbieter ausgewählt wird * preis\n",
    "    problem += pulp.lpSum(preis[k]*x[k] for k in anbieter)\n",
    "\n",
    "    #Einschränkungen: Jedes Spiel muss ansehbar sein wenn es auch angeboten wird\n",
    "    for g in covered_games:\n",
    "        problem += pulp.lpSum([\n",
    "            x[k] for k in anbieter if k in abdeckung and g in abdeckung[k]\n",
    "        ]) >= 1, f\"Deckung_{g}\"\n",
    "\n",
    "    problem.solve() # Hier wird Branch-and-Cut verwendet\n",
    "\n",
    "    selected_provider = []\n",
    "\n",
    "    for a in anbieter:\n",
    "        if pulp.value(x[a]) == 1:\n",
    "            selected_provider.append(int(streaming_packages.loc[streaming_packages[\"id\"] == a, \"id\"].iloc[0]))\n",
    "\n",
    "    # Kosten minimieren\n",
    "    price = pulp.value(problem.objective)\n",
    "\n",
    "    return {\"ausgewählte_anbieter\": selected_provider, \"preis\": price, \"ungedeckte_spiele\": uncovered_games}"
   ]
  },
  {
   "cell_type": "code",
   "execution_count": 5,
   "metadata": {},
   "outputs": [],
   "source": [
    "def greedy_set_cover(game_ids, anbieter, abdeckung, preis):\n",
    "    \"\"\"\n",
    "    Greedy-Algorithmus für das Set Cover Problem.\n",
    "    \n",
    "    :param game_ids: Liste der Spiele, die abgedeckt werden müssen\n",
    "    :param anbieter: Liste der Anbieter\n",
    "    :param abdeckung: Dictionary mit Anbieter als Schlüssel und Liste der abgedeckten Spiele als Wert\n",
    "    :param preis: Dictionary mit Anbieter als Schlüssel und den Kosten als Wert\n",
    "    :return: Liste der ausgewählten Anbieter\n",
    "    \"\"\"\n",
    "    covered_games = [g for g in game_ids if any(g in abdeckung[k] for k in abdeckung)]\n",
    "    uncovered_games = [g for g in game_ids if not any(g in abdeckung[k] for k in abdeckung)]\n",
    "\n",
    "    open_games = set(covered_games)  # Noch nicht abgedeckte Spiele\n",
    "    selected_providers = []          # Ausgewählte Anbieter\n",
    "    \n",
    "    while open_games:\n",
    "        # Finde den Anbieter mit dem besten Preis-Leistungs-Verhältnis\n",
    "        best_provider = max(\n",
    "            anbieter,\n",
    "            key=lambda a: (\n",
    "                len(open_games & set(abdeckung.get(a, []))) / preis[a] if preis[a] > 0 else 0\n",
    "            )\n",
    "        )\n",
    "        \n",
    "        # Füge den Anbieter zur Lösung hinzu\n",
    "        selected_providers.append(best_provider)\n",
    "        \n",
    "        # Entferne die von diesem Anbieter abgedeckten Spiele aus der Liste\n",
    "        open_games -= set(abdeckung.get(best_provider, []))\n",
    "\n",
    "    price = 0\n",
    "    for p in selected_providers:\n",
    "        price += preis[p]\n",
    "\n",
    "    return {'ausgewählte_anbieter': selected_providers, 'preis': price,'ungedeckte_spiele': uncovered_games}\n"
   ]
  },
  {
   "cell_type": "code",
   "execution_count": 8,
   "metadata": {},
   "outputs": [
    {
     "name": "stdout",
     "output_type": "stream",
     "text": [
      "Ausgewählte Anbieter von ILP:  [2, 3, 4, 13, 16, 17, 43, 44, 51]\n",
      "Ausgewählte Anbieter von greedy:  [51, 2, 17]\n",
      "Benötigte Zeit von ILP:  0.13907814025878906\n",
      "Benötigte Zeit von greedy:  0.04169106483459473\n",
      "\n",
      "Ausgewählte Anbieter von ILP:  [2, 13, 17, 44]\n",
      "Ausgewählte Anbieter von greedy:  [2, 17]\n",
      "Benötigte Zeit von ILP:  0.06608724594116211\n",
      "Benötigte Zeit von greedy:  0.008453369140625\n",
      "\n",
      "Ausgewählte Anbieter von ILP:  [38, 46, 57]\n",
      "Ausgewählte Anbieter von greedy:  [57, 38, 46]\n",
      "Benötigte Zeit von ILP:  0.11505985260009766\n",
      "Benötigte Zeit von greedy:  0.016468524932861328\n",
      "\n",
      "Ausgewählte Anbieter von ILP:  [2, 3, 4, 13, 16, 17, 35, 43, 44, 46, 51, 57, 58]\n",
      "Ausgewählte Anbieter von greedy:  [51, 38, 57, 42, 36, 2, 46, 17, 58]\n",
      "Benötigte Zeit von ILP:  3.1074905395507812\n",
      "Benötigte Zeit von greedy:  2.1359121799468994\n",
      "Der Greedy-Algorithmus gibt höhren Preis zurück!\n",
      "\n"
     ]
    }
   ],
   "source": [
    "game_ids = []\n",
    "game_ids.append(get_game_ids([\"Deutschland\", \"Hatayspor\", \"Bayern München\", \"Real Madrid\"]))\n",
    "game_ids.append(get_game_ids([\"VfB Stuttgart\"]))\n",
    "game_ids.append(get_game_ids([\"Oxford United\", \"Los Angeles FC\", \"AS Rom\"]))\n",
    "game_ids.append(get_game_ids(game[['team_home', 'team_away']].values.ravel()))\n",
    "\n",
    "for entry in game_ids:\n",
    "    optimum_time_start = time.time()\n",
    "    optimum = ILP_set_cover(entry, anbieter, abdeckung, preis)\n",
    "    optimum_time_end = time.time()\n",
    "    greedy_time_start = time.time()\n",
    "    greedy = greedy_set_cover(entry, anbieter, abdeckung, preis)\n",
    "    greedy_time_end = time.time()\n",
    "\n",
    "    print(\"Ausgewählte Anbieter von ILP: \", optimum[\"ausgewählte_anbieter\"])\n",
    "    print(\"Ausgewählte Anbieter von greedy: \", greedy[\"ausgewählte_anbieter\"])\n",
    "    print(\"Benötigte Zeit von ILP: \", optimum_time_end-optimum_time_start)\n",
    "    print(\"Benötigte Zeit von greedy: \", greedy_time_end- greedy_time_start)\n",
    "    if greedy[\"preis\"] > optimum[\"preis\"]:\n",
    "        print(\"Der Greedy-Algorithmus gibt höhren Preis zurück!\")\n",
    "    print()"
   ]
  },
  {
   "cell_type": "code",
   "execution_count": null,
   "metadata": {},
   "outputs": [],
   "source": []
  }
 ],
 "metadata": {
  "kernelspec": {
   "display_name": "Python 3",
   "language": "python",
   "name": "python3"
  },
  "language_info": {
   "codemirror_mode": {
    "name": "ipython",
    "version": 3
   },
   "file_extension": ".py",
   "mimetype": "text/x-python",
   "name": "python",
   "nbconvert_exporter": "python",
   "pygments_lexer": "ipython3",
   "version": "3.12.7"
  }
 },
 "nbformat": 4,
 "nbformat_minor": 2
}
